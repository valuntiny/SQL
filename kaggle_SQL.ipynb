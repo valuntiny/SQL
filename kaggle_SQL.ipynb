{
  "nbformat": 4,
  "nbformat_minor": 0,
  "metadata": {
    "colab": {
      "name": "kaggle_SQL.ipynb",
      "version": "0.3.2",
      "provenance": [],
      "toc_visible": true,
      "include_colab_link": true
    },
    "kernelspec": {
      "name": "python3",
      "display_name": "Python 3"
    }
  },
  "cells": [
    {
      "cell_type": "markdown",
      "metadata": {
        "id": "view-in-github",
        "colab_type": "text"
      },
      "source": [
        "<a href=\"https://colab.research.google.com/github/valuntiny/SQL/blob/master/kaggle_SQL.ipynb\" target=\"_parent\"><img src=\"https://colab.research.google.com/assets/colab-badge.svg\" alt=\"Open In Colab\"/></a>"
      ]
    },
    {
      "cell_type": "code",
      "metadata": {
        "id": "CxREQ2cLYVra",
        "colab_type": "code",
        "colab": {
          "base_uri": "https://localhost:8080/",
          "height": 34
        },
        "outputId": "1c2f47a2-7481-46c9-8b0e-355ad9c24986"
      },
      "source": [
        "!pip install -q pymysql"
      ],
      "execution_count": 6,
      "outputs": [
        {
          "output_type": "stream",
          "text": [
            "\u001b[?25l\r\u001b[K     |██████▉                         | 10kB 16.8MB/s eta 0:00:01\r\u001b[K     |█████████████▊                  | 20kB 1.8MB/s eta 0:00:01\r\u001b[K     |████████████████████▋           | 30kB 2.6MB/s eta 0:00:01\r\u001b[K     |███████████████████████████▌    | 40kB 1.7MB/s eta 0:00:01\r\u001b[K     |████████████████████████████████| 51kB 1.9MB/s \n",
            "\u001b[?25h"
          ],
          "name": "stdout"
        }
      ]
    },
    {
      "cell_type": "markdown",
      "metadata": {
        "id": "cTVDRcG6lSco",
        "colab_type": "text"
      },
      "source": [
        "**Guojing Wu** | *2019-08-25*\n",
        "\n",
        "# SQL\n",
        "<a href=\"https://github.com/larryzzhang/data-x/blob/master/09a-sql/intro-to-dbs-and-sql_v2-afo.pdf\"> Data-X </a>"
      ]
    },
    {
      "cell_type": "markdown",
      "metadata": {
        "id": "gNDupafSWMIV",
        "colab_type": "text"
      },
      "source": [
        "## Basic operation and queries\n",
        "\n",
        "### create table"
      ]
    },
    {
      "cell_type": "code",
      "metadata": {
        "id": "_VAbfjGGNwh8",
        "colab_type": "code",
        "colab": {}
      },
      "source": [
        "CREATE TABLE Customers (\n",
        "    CustomerID INT NOT NULL,\n",
        "    CustomerName VARCHAR(100) NOT NULL,\n",
        "    Country VARCHAR(50) NOT NULL,\n",
        "    PRIMARY KEY (CustomerID)\n",
        ")"
      ],
      "execution_count": 0,
      "outputs": []
    },
    {
      "cell_type": "markdown",
      "metadata": {
        "id": "pz5UYsaGOUyn",
        "colab_type": "text"
      },
      "source": [
        "### insert"
      ]
    },
    {
      "cell_type": "code",
      "metadata": {
        "id": "thx0MUCgPTZ9",
        "colab_type": "code",
        "colab": {}
      },
      "source": [
        "INSERT INTO Customers (CustomerID, CustomerName, Country)\n",
        "VALUES (1, \"Gerogen\", \"China\");"
      ],
      "execution_count": 0,
      "outputs": []
    },
    {
      "cell_type": "markdown",
      "metadata": {
        "id": "3O0gyExYP1LK",
        "colab_type": "text"
      },
      "source": [
        "### insert + union"
      ]
    },
    {
      "cell_type": "code",
      "metadata": {
        "id": "rPkf3Tu7P_A7",
        "colab_type": "code",
        "colab": {}
      },
      "source": [
        "INSERT INTO Customers (CustomerID, CustomerName, Country)\n",
        "VALUES (2, \"ABC\", \"U.S.A.\") UNION\n",
        "VALUES (3, \"Aby\", \"Canada\") UNION\n",
        "VALUES (4, \"Tom\", \"U.K.\");"
      ],
      "execution_count": 0,
      "outputs": []
    },
    {
      "cell_type": "markdown",
      "metadata": {
        "id": "nvO1vSGwZPgE",
        "colab_type": "text"
      },
      "source": [
        "### select + where + like"
      ]
    },
    {
      "cell_type": "code",
      "metadata": {
        "id": "MzcQJCMrZTsh",
        "colab_type": "code",
        "colab": {}
      },
      "source": [
        "SELECT * \n",
        "FROM Customers\n",
        "WHERE xxx LIKE %X% (OR/AND xxx > 10)"
      ],
      "execution_count": 0,
      "outputs": []
    },
    {
      "cell_type": "markdown",
      "metadata": {
        "id": "XZ_0maGKoPst",
        "colab_type": "text"
      },
      "source": [
        "### update"
      ]
    },
    {
      "cell_type": "code",
      "metadata": {
        "id": "ibmnVjazoQ5O",
        "colab_type": "code",
        "colab": {}
      },
      "source": [
        "UPDATE table\n",
        "SET columnName = 'xxx'\n",
        "WHERE CustomerID = 2"
      ],
      "execution_count": 0,
      "outputs": []
    },
    {
      "cell_type": "markdown",
      "metadata": {
        "id": "huNPnrJ7pB1M",
        "colab_type": "text"
      },
      "source": [
        "### delete"
      ]
    },
    {
      "cell_type": "code",
      "metadata": {
        "id": "KblaD08CpI8L",
        "colab_type": "code",
        "colab": {}
      },
      "source": [
        "DELETE * FROM Customers"
      ],
      "execution_count": 0,
      "outputs": []
    },
    {
      "cell_type": "code",
      "metadata": {
        "id": "fhrS25wKp5ER",
        "colab_type": "code",
        "colab": {}
      },
      "source": [
        "DROP Customers"
      ],
      "execution_count": 0,
      "outputs": []
    },
    {
      "cell_type": "markdown",
      "metadata": {
        "id": "2o_sILS8p7pn",
        "colab_type": "text"
      },
      "source": [
        "### foreign key: create a second table that relate to the first one"
      ]
    },
    {
      "cell_type": "code",
      "metadata": {
        "id": "nIfMr-BKrzR0",
        "colab_type": "code",
        "colab": {}
      },
      "source": [
        "CREATE TABLE Customers (\n",
        "    CustomerID INT NOT NULL,\n",
        "    CustomerName VARCHAR(100) NOT NULL,\n",
        "    Country VARCHAR(50) NOT NULL,\n",
        "    PRIMARY KEY (CustomerID)\n",
        ");"
      ],
      "execution_count": 0,
      "outputs": []
    },
    {
      "cell_type": "code",
      "metadata": {
        "id": "M-tV2fg0r17t",
        "colab_type": "code",
        "colab": {}
      },
      "source": [
        "CREATE TABLE Orders (\n",
        "    OrderID INT NOT NULL,\n",
        "    CustomerID INT NOT NULL,\n",
        "    OrderDate DATE NOT NULL,\n",
        "    PRIMARY KEY (OrderID),\n",
        "    FOREIGN KEY (CustomerID) REFERENCES Customers(CustomerID)\n",
        ");\n",
        "\n",
        "INSERT INTO Orders (OrderID, CustomerID, OrderDate)\n",
        "VALUES (1, 1, '2016-09-01') UNION\n",
        "VALUES (2, 4, '2019-05-21') UNION\n",
        "VALUES (3, 1, '2013-11-18');"
      ],
      "execution_count": 0,
      "outputs": []
    },
    {
      "cell_type": "markdown",
      "metadata": {
        "id": "nG2f1dTuvC7D",
        "colab_type": "text"
      },
      "source": [
        "### join: horizontally align\n",
        "\n",
        "* INNER JOIN\n",
        "\n",
        "* LEFT JOIN\n",
        "\n",
        "* RIGHT JOIN\n",
        "\n",
        "* OUTER JOIN"
      ]
    },
    {
      "cell_type": "code",
      "metadata": {
        "id": "PupTEhxPvE43",
        "colab_type": "code",
        "colab": {}
      },
      "source": [
        "SELECT Customers.CustomerID, Orders.OrderID\n",
        "FROM Customers <join> Orders\n",
        "ON Customers.CustomerID = Orders.CustomerID;"
      ],
      "execution_count": 0,
      "outputs": []
    },
    {
      "cell_type": "markdown",
      "metadata": {
        "id": "Un2FNQwVixk0",
        "colab_type": "text"
      },
      "source": [
        "### union: vertically align\n",
        "\n",
        "* UNION ALL\n",
        "\n",
        "* UNION DISTINCT"
      ]
    },
    {
      "cell_type": "code",
      "metadata": {
        "id": "-gSRXuG_i2r4",
        "colab_type": "code",
        "colab": {}
      },
      "source": [
        "SELECT Date FROM Customers\n",
        "UNION ALL\n",
        "SELECT Date FROM Orders"
      ],
      "execution_count": 0,
      "outputs": []
    },
    {
      "cell_type": "markdown",
      "metadata": {
        "id": "FsHNJ9IuvivH",
        "colab_type": "text"
      },
      "source": [
        "### order by"
      ]
    },
    {
      "cell_type": "code",
      "metadata": {
        "id": "pe2XtiTsxGH-",
        "colab_type": "code",
        "colab": {}
      },
      "source": [
        "SELECT CustomerName\n",
        "FROM Customers\n",
        "ORDER BY CustomerName;"
      ],
      "execution_count": 0,
      "outputs": []
    },
    {
      "cell_type": "code",
      "metadata": {
        "id": "HHVeNnF3_8-x",
        "colab_type": "code",
        "colab": {}
      },
      "source": [
        "# alphabetical order, and can be aaplied to WHERE sentence\n",
        "SELECT Country\n",
        "FROM Customers\n",
        "WHERE Country > 'D'\n",
        "ORDER BY Country;"
      ],
      "execution_count": 0,
      "outputs": []
    },
    {
      "cell_type": "code",
      "metadata": {
        "id": "iwvBndC1BfwQ",
        "colab_type": "code",
        "colab": {}
      },
      "source": [
        "SELECT OrderID\n",
        "FROM Orders\n",
        "ORDER BY OrderDate DESC;"
      ],
      "execution_count": 0,
      "outputs": []
    },
    {
      "cell_type": "markdown",
      "metadata": {
        "id": "3SAE-TlGCHpL",
        "colab_type": "text"
      },
      "source": [
        "### WITH xxx AS ()"
      ]
    },
    {
      "cell_type": "code",
      "metadata": {
        "id": "7EYKRQTfCK0P",
        "colab_type": "code",
        "colab": {}
      },
      "source": [
        "WITH USCustomer AS (\n",
        "    SELECT CustomerID, CustomerName\n",
        "    FROM Customers\n",
        "    WHERE Country = 'U.S.A'\n",
        ")\n",
        "XXX"
      ],
      "execution_count": 0,
      "outputs": []
    },
    {
      "cell_type": "markdown",
      "metadata": {
        "id": "Wy968fl8imXB",
        "colab_type": "text"
      },
      "source": [
        "### "
      ]
    },
    {
      "cell_type": "code",
      "metadata": {
        "id": "704ygR04isJ8",
        "colab_type": "code",
        "colab": {}
      },
      "source": [
        ""
      ],
      "execution_count": 0,
      "outputs": []
    }
  ]
}