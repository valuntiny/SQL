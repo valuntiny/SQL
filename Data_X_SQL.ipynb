{
  "nbformat": 4,
  "nbformat_minor": 0,
  "metadata": {
    "colab": {
      "name": "kaggle_SQL.ipynb",
      "version": "0.3.2",
      "provenance": [],
      "toc_visible": true,
      "include_colab_link": true
    },
    "kernelspec": {
      "name": "python3",
      "display_name": "Python 3"
    }
  },
  "cells": [
    {
      "cell_type": "markdown",
      "metadata": {
        "id": "view-in-github",
        "colab_type": "text"
      },
      "source": [
        "<a href=\"https://colab.research.google.com/github/valuntiny/SQL/blob/master/Data_X_SQL.ipynb\" target=\"_parent\"><img src=\"https://colab.research.google.com/assets/colab-badge.svg\" alt=\"Open In Colab\"/></a>"
      ]
    },
    {
      "cell_type": "code",
      "metadata": {
        "id": "CxREQ2cLYVra",
        "colab_type": "code",
        "colab": {
          "base_uri": "https://localhost:8080/",
          "height": 34
        },
        "outputId": "1c2f47a2-7481-46c9-8b0e-355ad9c24986"
      },
      "source": [
        "!pip install -q pymysql"
      ],
      "execution_count": 6,
      "outputs": [
        {
          "output_type": "stream",
          "text": [
            "\u001b[?25l\r\u001b[K     |██████▉                         | 10kB 16.8MB/s eta 0:00:01\r\u001b[K     |█████████████▊                  | 20kB 1.8MB/s eta 0:00:01\r\u001b[K     |████████████████████▋           | 30kB 2.6MB/s eta 0:00:01\r\u001b[K     |███████████████████████████▌    | 40kB 1.7MB/s eta 0:00:01\r\u001b[K     |████████████████████████████████| 51kB 1.9MB/s \n",
            "\u001b[?25h"
          ],
          "name": "stdout"
        }
      ]
    },
    {
      "cell_type": "markdown",
      "metadata": {
        "id": "cTVDRcG6lSco",
        "colab_type": "text"
      },
      "source": [
        "**Guojing Wu** | *2019-08-25*\n",
        "\n",
        "# SQL\n",
        "<a href=\"https://github.com/larryzzhang/data-x/blob/master/09a-sql/intro-to-dbs-and-sql_v2-afo.pdf\"> Data-X </a>"
      ]
    },
    {
      "cell_type": "markdown",
      "metadata": {
        "id": "gNDupafSWMIV",
        "colab_type": "text"
      },
      "source": [
        "## Basic operation and queries\n",
        "\n",
        "### create table"
      ]
    },
    {
      "cell_type": "code",
      "metadata": {
        "id": "_VAbfjGGNwh8",
        "colab_type": "code",
        "colab": {}
      },
      "source": [
        "CREATE TABLE Customers (\n",
        "    CustomerID INT NOT NULL,\n",
        "    CustomerName VARCHAR(100) NOT NULL,\n",
        "    Country VARCHAR(50) NOT NULL,\n",
        "    PRIMARY KEY (CustomerID)\n",
        ")"
      ],
      "execution_count": 0,
      "outputs": []
    },
    {
      "cell_type": "markdown",
      "metadata": {
        "id": "pz5UYsaGOUyn",
        "colab_type": "text"
      },
      "source": [
        "### insert"
      ]
    },
    {
      "cell_type": "code",
      "metadata": {
        "id": "thx0MUCgPTZ9",
        "colab_type": "code",
        "colab": {}
      },
      "source": [
        "INSERT INTO Customers (CustomerID, CustomerName, Country)\n",
        "VALUES (1, \"Gerogen\", \"China\");"
      ],
      "execution_count": 0,
      "outputs": []
    },
    {
      "cell_type": "markdown",
      "metadata": {
        "id": "3O0gyExYP1LK",
        "colab_type": "text"
      },
      "source": [
        "### insert + union"
      ]
    },
    {
      "cell_type": "code",
      "metadata": {
        "id": "rPkf3Tu7P_A7",
        "colab_type": "code",
        "colab": {}
      },
      "source": [
        "INSERT INTO Customers (CustomerID, CustomerName, Country)\n",
        "VALUES (2, \"ABC\", \"U.S.A.\") UNION\n",
        "VALUES (3, \"Aby\", \"Canada\") UNION\n",
        "VALUES (4, \"Tom\", \"U.K.\");"
      ],
      "execution_count": 0,
      "outputs": []
    },
    {
      "cell_type": "markdown",
      "metadata": {
        "id": "nvO1vSGwZPgE",
        "colab_type": "text"
      },
      "source": [
        "### select + where + like"
      ]
    },
    {
      "cell_type": "code",
      "metadata": {
        "id": "MzcQJCMrZTsh",
        "colab_type": "code",
        "colab": {}
      },
      "source": [
        "SELECT * \n",
        "FROM Customers\n",
        "WHERE xxx LIKE %X% (OR/AND xxx > 10)\n"
      ],
      "execution_count": 0,
      "outputs": []
    }
  ]
}